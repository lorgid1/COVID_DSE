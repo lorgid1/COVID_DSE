{
 "cells": [
  {
   "cell_type": "markdown",
   "id": "554c6a48",
   "metadata": {},
   "source": [
    "## Datos DSE-CONACyT para el Estado de Veracruz"
   ]
  },
  {
   "cell_type": "markdown",
   "id": "5ae80e1f",
   "metadata": {},
   "source": [
    "## Descripción"
   ]
  },
  {
   "cell_type": "markdown",
   "id": "34c71a94",
   "metadata": {},
   "source": [
    " Análisis de los datos de acceso público de la Dirección de Seguimiento Epidemiológico (DSE) en los que se basa el sitio web del Consejo Nacional de Ciencia y Tecnología (CONACyT) recortados para el Estado de Veracruz. La fecha de actualización de los datos es del 20 de febrero del 2022. Datos disponibles en:\n",
    "\n",
    "> https://www.gob.mx/salud/documentos/datos-abiertos-152127"
   ]
  },
  {
   "cell_type": "markdown",
   "id": "4be63d21",
   "metadata": {},
   "source": [
    "## Librerias"
   ]
  },
  {
   "cell_type": "code",
   "execution_count": 1,
   "id": "9c417d6f",
   "metadata": {},
   "outputs": [],
   "source": [
    "import pandas as pd \n",
    "import numpy as np\n",
    "import datetime as dt\n",
    "import matplotlib.pyplot as plt\n",
    "import matplotlib.gridspec as gridspec\n",
    "import matplotlib.ticker as ticker\n",
    "import random as rnd\n",
    "import os\n",
    "\n",
    "\n",
    "from matplotlib.patches import FancyBboxPatch"
   ]
  },
  {
   "cell_type": "markdown",
   "id": "ea238281",
   "metadata": {},
   "source": [
    "## Cargar archivo(s)"
   ]
  },
  {
   "cell_type": "code",
   "execution_count": 2,
   "id": "1c681e06",
   "metadata": {},
   "outputs": [],
   "source": [
    "# Imprimir informacion de proceso\n",
    "verbose = True\n"
   ]
  },
  {
   "cell_type": "code",
   "execution_count": 3,
   "id": "5567ac11",
   "metadata": {},
   "outputs": [
    {
     "name": "stderr",
     "output_type": "stream",
     "text": [
      "C:\\ProgramData\\Anaconda3\\lib\\site-packages\\IPython\\core\\interactiveshell.py:3444: DtypeWarning: Columns (38) have mixed types.Specify dtype option on import or set low_memory=False.\n",
      "  exec(code_obj, self.user_global_ns, self.user_ns)\n"
     ]
    },
    {
     "name": "stdout",
     "output_type": "stream",
     "text": [
      "Archivos en carpeta: \n",
      "['2022-02-20_DSE_COVID_Nal.csv', '22-02-20_DSE_COVID', 'diccionario_de_datos']\n",
      "\n",
      "El tamaño de 2022-02-20_DSE_COVID_Nal.csv es de : 2413.815568 megabytes\n",
      "Archivo cargado.\n"
     ]
    }
   ],
   "source": [
    "\n",
    "# Localización del archivo\n",
    "\n",
    "dir_datos = os.environ.get('DATA_DIR')              # Directorio donde se encuentran los datos\n",
    "sub_dir = 'DSE'                                                # Sub-directorio del archivo \n",
    "nom_archivo = '2022-02-20_DSE_COVID_Nal.csv'                         # Nombre del archivo\n",
    "\n",
    "archivo = os.path.join(dir_datos, sub_dir, nom_archivo)        # Ruta del archivo\n",
    "\n",
    "# Información del archivo\n",
    "\n",
    "tamano_archivo = os.path.getsize(archivo)                      # Tamaño del archivo en bytes\n",
    "archivos_dir = os.listdir(os.path.join(dir_datos, sub_dir))    # Lista de archivos en directorio \n",
    "datos_covid = pd.read_csv(archivo)\n",
    "if verbose:\n",
    "    \n",
    "    print(\"Archivos en carpeta: \", archivos_dir, sep= '\\n', end = '\\n\\n')\n",
    "    print(f\"El tamaño de {nom_archivo} es de : {tamano_archivo/1000000} megabytes\")\n",
    "    print('Archivo cargado.')"
   ]
  },
  {
   "cell_type": "code",
   "execution_count": 4,
   "id": "41e42f09",
   "metadata": {},
   "outputs": [
    {
     "name": "stdout",
     "output_type": "stream",
     "text": [
      "Hojas en en la libreta de excel: ['ORIGEN', 'SECTOR', 'SEXO', 'TIPO_PACIENTE', 'SI_NO', 'NACIONALIDAD', 'RESULTADO_LAB', 'RESULTADO_ANTIGENO', 'CLASIFICACION_FINAL', 'ENTIDADES', 'MUNICIPIOS']\n",
      "\n",
      "Catalogos cargados...\n",
      "Diccionario TIPO_PACIENTE cargado:\n",
      "{1: 'AMBULATORIO', 2: 'HOSPITALIZADO', 99: 'NO ESPECIFICADO'}\n",
      "Diccionario SEXO cargado:\n",
      "{1: 'MUJER', 2: 'HOMBRE', 99: 'NO ESPECIFICADO'}\n",
      "Diccionario SI_NO cargado:\n",
      "{1: 'SI ', 2: 'NO ', 97: 'NO APLICA', 98: 'SE IGNORA', 99: 'NO ESPECIFICADO'}\n"
     ]
    }
   ],
   "source": [
    "# Catalogo de datos\n",
    "\n",
    "dir_datos = os.environ.get('DATA_DIR')       # Directorio donde se encuentran los datos\n",
    "sub_dir = 'DSE/Diccionario_de_datos'         # Sub-directorio del archivo \n",
    "nom_archivo = 'DSE_Catalogos_Trabajo.xlsx'   # Nombre del archivo de datos\n",
    "\n",
    "ruta_datos = os.path.join(dir_datos, sub_dir, nom_archivo)       # Ruta al archivo de datos\n",
    "\n",
    "archivo_diccionario = pd.ExcelFile(ruta_datos)\n",
    "hojas_catalogos = archivo_diccionario.sheet_names\n",
    "\n",
    "#tamano_archivo = os.path.getsize(archivo)                       # Tamaño del archivo en bytes\n",
    "#archivos_dir = os.listdir(os.path.join(dir_datos, sub_dir))     # Lista de archivos en directorio \n",
    "\n",
    "catalogos = {}\n",
    "\n",
    "for catalogo in ['TIPO_PACIENTE', 'SEXO', 'SI_NO']:\n",
    "    df = archivo_diccionario.parse(catalogo)\n",
    "    diccionario = {}\n",
    "    for _, row in df.iterrows():\n",
    "        diccionario[row['CLAVE']] = row['DESCRIPCION']\n",
    "    catalogos[catalogo] = diccionario\n",
    "\n",
    "if verbose:\n",
    "    #print(\"Archivos en carpeta: \", archivos_dir, sep= '\\n', end = '\\n\\n')\n",
    "    #print(f\"El tamaño de {nom_archivo} es de : {tamano_archivo} bytes\")\n",
    "    print(f'Hojas en en la libreta de excel: {hojas_catalogos}', end = '\\n\\n')\n",
    "    \n",
    "    print(f'Catalogos cargados...')\n",
    "    for catalogo in catalogos:\n",
    "        print(f'Diccionario {catalogo} cargado:')\n",
    "        print(catalogos[catalogo])\n"
   ]
  },
  {
   "cell_type": "markdown",
   "id": "55c5a7c2",
   "metadata": {},
   "source": [
    "## Observaciones Generales"
   ]
  },
  {
   "cell_type": "markdown",
   "id": "19b49bbf",
   "metadata": {},
   "source": [
    "No existen valores nulos (nan) en ninguna de las columnas pero existen valores que representan la ausencia de valor. En las columnas de fecha, el valor utilizado para representar datos nulos en campos de fecha es '99-99-9999'. Las columnas que contienen datos de claves geoestadisticas del INEGI tienen formato numerico, el valor utilizado para representar un no dato es el 99 y solo se presenta en ENTIDAD_NAC.\n",
    "\n",
    "FECHA_ACTUALIZACION tiene un solo valor que representa la fecha de actualización de la tabla y la columna ID_REGISTRO es la unica con valores unicos. Siete de las columnas son de tipo objeto y el resto son de tipo int64. Los datos fueron cargados como data frame de pandas y ocupan un 81.3 megabytes en la memoria.\n"
   ]
  },
  {
   "cell_type": "code",
   "execution_count": 5,
   "id": "27191744",
   "metadata": {},
   "outputs": [],
   "source": [
    "####### Análisis Inicial #####\n",
    "\n",
    "# Información general\n",
    "\n",
    "#datos_covid.info()             # Valores nulos y tipo de datos por columna\n",
    "#datos_covid.describe()         # Estadisticas por columna\n",
    "#datos_covid.columns.tolist())  # Columnas originales del archivo\n",
    "\n",
    "\n",
    "# Columna FECHA_ACTUALIZACION\n",
    "\n",
    "#datos_covid.FECHA_ACTUALIZACION.nunique()          # Solo hay un valor en la columna.\n",
    "#datos_covid.FECHA_ACTUALIZACION.value_counts()     # Cuenta de valores unicos del campo\n",
    "\n",
    "\n",
    "# Columnas que representan claves geográficas ('ENTIDAD_UM', 'ENTIDAD_NAC', 'ENTIDAD_RES')\n",
    "\n",
    "#columnas_claves = ['ENTIDAD_UM', 'ENTIDAD_NAC', 'ENTIDAD_RES']\n",
    "#datos_covid[['ENTIDAD_UM', 'ENTIDAD_NAC', 'ENTIDAD_RES', 'MUNICIPIO_RES']].dtypes \n",
    "                                                                    # Tipos de datos en columnas seleccionadas.\n",
    "#np.unique(datos_covid.ENTIDAD_UM.unique() <= 32 )                  # Todos los valores estan dentro de los rangos \n",
    "                                                                    # de claves de Estado ( 1 a 32).\n",
    "#datos_covid[datos_covid['ENTIDAD_NAC'] > 32].ENTIDAD_NAC.unique()  # Solo un valor sale de los rangos de clave de \n",
    "                                                                    # estado (esto significa que nació en otro pais \n",
    "                                                                    # o no se sabe donde nació).\n",
    "#np.unique(datos_covid.ENTIDAD_RES.unique() <= 32)                  # Todos los valores estan dentro de los rangos\n",
    "                                                                    # de clave de estado.\n",
    "\n",
    "\n",
    "# Columna ID_REGISTRO\n",
    "\n",
    "#datos_covid.ID_REGISTRO.is_unique                      # Todos los valores de la columna son únicos.\n",
    "#type(datos_covid.ID_REGISTRO.iloc[5])                  # El tipo de dato de cada elemento es String\n",
    "#datos_covid.ID_REGISTRO.str.len().value_counts()       # Hay 266297 elementos con una cadena de \n",
    "                                                        # longitud 6 y 7 de longitud 7.\n",
    "\n",
    "\n",
    "# Columnas con fechas ('FECHA_INGRESO', 'FECHA_SINTOMAS', 'FECHA_DEF')\n",
    "\n",
    "#datos_covid.FECHA_INGRESO.isna().sum()                             # Columna sin valores nulos\n",
    "#(datos_covid['FECHA_INGRESO'] == '9999-99-99').value_counts()      # Columna sin clave de fecha nula\n",
    "\n",
    "#datos_covid.FECHA_SINTOMAS.isna().sum()                            # Columna sin valores nulos\n",
    "#(datos_covid['FECHA_SINTOMAS'] == '9999-99-99').value_counts()     # Cuenta en ceros de clave que \n",
    "                                                                    # representa valores nulos\n",
    "#datos_covid['FECHA_SINTOMAS'].sort_values(ascending = False)       # Comprobación de que no hay claves \n",
    "                                                                    # de valores nulos\n",
    "\n",
    "#datos_covid.FECHA_DEF.isna().sum() # Columna sin valores nulos\n",
    "#(datos_covid['FECHA_DEF'] == '9999-99-99').value_counts()          # Cuenta de claves que representan \n",
    "                                                                    # valores nulos (247,969)\n",
    "#datos_covid['FECHA_DEF'].sort_values(ascending = False)            # Comprobación de que no hay claves \n",
    "                                                                    # de valores nulos\n",
    "\n",
    "\n",
    "# Columna EDAD\n",
    "\n",
    "#datos_covid['EDAD'].dtypes                                 # Es un numero integro\n",
    "#datos_covid['EDAD'].isna().value_counts()                  # No tiene valores nulos\n",
    "#datos_covid['EDAD'].value_counts()                         # Valores únicos\n",
    "#datos_covid['EDAD'].max()                                  # Valor máximo es de 121\n",
    "#datos_covid['EDAD'].min()                                  # Valor mínimo es de 0\n",
    "\n",
    "\n",
    "# Valores únicos en columnas\n",
    "\n",
    "#col_sin_clave = ['ID_REGISTRO', 'FECHA_INGRESO', 'FECHA_SINTOMAS', 'FECHA_DEF', 'MUNICIPIO_RES', 'EDAD']\n",
    "                                                            # Columnas sin valores categorizados\n",
    "#for col in datos_covid.columns:                            # Imprimir claves de columna\n",
    "#    if col not in col_sin_clave:                           # si no aparece en la lista de columnas\n",
    "#        print(col, ':', sep='')                            # con valores continuos\n",
    "#        print(datos_covid[col].unique().tolist())\n"
   ]
  },
  {
   "cell_type": "markdown",
   "id": "283e3bc4",
   "metadata": {},
   "source": [
    "## Limpieza de datos"
   ]
  },
  {
   "cell_type": "markdown",
   "id": "b153d129",
   "metadata": {},
   "source": [
    "Se eliminó la columna FECHA_ACTUALIZACION y se guardo el valor unico que contiene (2021-11-09) en una variable. Las columnas con fechas en formato de string fueron coercionadas a convertirse a formato fecha. Los string sin un formato valido de fecha ('99-99-9999') fueron convertidos a valores nulos (nat - not a time). Las columnas con formato de fecha son:\n",
    "\n",
    "    * FECHA_ACTUALIZACION\n",
    "    * FECHA_INGRESO\n",
    "    * FECHA_SINTOMAS\n",
    "    * FECHA_DEF\n",
    "    \n",
    "\n",
    "Las columnas que representan claves de entidades geográficas fueron convertidas a formato string y se estandarizó la longitud en su formato a 2 caracteres en las columnas con clave de entidad, y a 3 caracteres en el caso de la columnas con claves municipales. Las columnas con claves geo-estadísticas son:\n",
    "\n",
    "    * ENTIDAD_NAC\n",
    "    * ENTIDAD_RES\n",
    "    * MUNICIPIO_RES\n",
    "\n",
    "\n",
    "Todas las columnas necesitan de catálogo de datos para interpretar su contenido. Solo la columna ID_REGISTRO (que es un identificador único de registro) y las columnas con formato de fecha no lo necesitan. El catalogo está disponible en formato Excel dentro de la carpeta con el nombre 'DSE/Diccionario_de_datos', en el archivo 'DSE_Catalogos_Trabajo.xlsx'. La tabla cuenta con Diccionario de Datos en la misma carpeta con el nombre '201128 Descriptores.\n",
    "\n",
    "Se agregaron dos columnas para facilitar el analisis. La primera tiene el nombre RANGOS_EDAD y contiene rangos de cinco años para la edad establecida en la columna EDAD. La segunda columna tiene el nombre de FECHA_RECUPERACION y agrega 14 dias a fecha de inicio de sintomas (FECHA_SINTOMAS).\n",
    "\n",
    "\n"
   ]
  },
  {
   "cell_type": "code",
   "execution_count": 6,
   "id": "1ccc08b0",
   "metadata": {},
   "outputs": [],
   "source": [
    "######## LIMPIEZA DE DATOS #########\n",
    "\n",
    "if 'FECHA_ACTUALIZACION' in datos_covid.columns:\n",
    "\n",
    "    # Se eliminó la columna FECHA_ACTUALIZACION porque solo tiene un \n",
    "    # valor que representa la fecha de corte (2021-11-09).\n",
    "\n",
    "    fecha_corte = dt.datetime.strptime(datos_covid['FECHA_ACTUALIZACION'].iloc[0], '%Y-%m-%d') \n",
    "                                                                            # Guardar fecha de corte en variable\n",
    "\n",
    "    datos_covid.drop(columns = 'FECHA_ACTUALIZACION', inplace = True)       # Eliminar columna\n",
    "\n",
    "\n",
    "    # Cambiar los datos que son fecha a tipo a fecha\n",
    "\n",
    "    datos_covid['FECHA_INGRESO'] = pd.to_datetime(datos_covid['FECHA_INGRESO'], errors='coerce')\n",
    "    datos_covid['FECHA_SINTOMAS'] = pd.to_datetime(datos_covid['FECHA_SINTOMAS'], errors='coerce')\n",
    "    datos_covid['FECHA_DEF'] = pd.to_datetime(datos_covid['FECHA_DEF'], errors='coerce')\n",
    "\n",
    "\n",
    "    # Cambiar las claves de áreas estadísticas municipales y nacionales a string\n",
    "\n",
    "    datos_covid['ENTIDAD_UM'] = datos_covid['ENTIDAD_UM'].apply('{:0>2}'.format)\n",
    "    datos_covid['ENTIDAD_NAC'] = datos_covid['ENTIDAD_NAC'].apply('{:0>2}'.format)\n",
    "    datos_covid['ENTIDAD_RES'] = datos_covid['ENTIDAD_RES'].apply('{:0>2}'.format)\n",
    "    datos_covid['MUNICIPIO_RES'] = datos_covid['MUNICIPIO_RES'].apply('{:0>3}'.format)\n",
    "\n",
    "\n",
    "else:\n",
    "    print('Probablemente ya se limpiaron los datos, porfavor revisar.')\n"
   ]
  },
  {
   "cell_type": "code",
   "execution_count": 7,
   "id": "e9e26e91",
   "metadata": {},
   "outputs": [],
   "source": [
    "######## AGREGAR COLUMNAS #########\n",
    "\n",
    "rangos = list(range(0,135,5)) # Crear lista de rangos\n",
    "\n",
    "# Agregar columna de rango de edad\n",
    "datos_covid['RANGOS_EDAD'] = pd.cut(x = datos_covid['EDAD'], bins = rangos, right = False) \n",
    "\n",
    "# Agregar 14 dias a fecha de inicio de sintomas (FECHA_SINTOMAS)\n",
    "datos_covid['FECHA_RECUPERACION'] = datos_covid['FECHA_SINTOMAS'] + dt.timedelta(days = 14) \n"
   ]
  },
  {
   "cell_type": "code",
   "execution_count": 8,
   "id": "8bd86835",
   "metadata": {},
   "outputs": [],
   "source": [
    "######## COMPROBACIONES #########\n",
    "\n",
    "\n",
    "# Comprobaciones columnas de fechas\n",
    "\n",
    "#datos_covid.FECHA_INGRESO.isna().sum()  # Suma de valores nulos es igual a 0\n",
    "#datos_covid.FECHA_SINTOMAS.isna().sum() # Suma de valores nulos es igual a 0\n",
    "#datos_covid.FECHA_DEF.isna().sum()      # Suma de valores nulos es igual a 247,969 \n",
    "                                         # que es igual al número de claves nulas en el análisis anterior\n",
    "\n",
    "    \n",
    "# Comprobaciones columnas de claves ('ENTIDAD_UM', 'ENTIDAD_NAC', 'ENTIDAD_RES', 'MUNICIPIO_RES')\n",
    "\n",
    "#datos_covid.ENTIDAD_UM.unique()              # Valores únicos\n",
    "#datos_covid.ENTIDAD_UM.nunique()             # Numero de valores únicos coincide con cantidad de estados\n",
    "#datos_covid.ENTIDAD_UM.str.len().unique()    # Todas las claves tienen una longitud de dos\n",
    "\n",
    "#datos_covid.ENTIDAD_NAC.unique()             # Valores únicos\n",
    "#datos_covid.ENTIDAD_NAC.nunique()            # Numero de valores únicos con uno más de la cantidad \n",
    "                                              # de estados (Clave 99)\n",
    "#datos_covid.ENTIDAD_NAC.str.len().unique()   # Todas las claves tienen una longitud de dos\n",
    "\n",
    "#datos_covid.ENTIDAD_RES.unique()             # Valores únicos\n",
    "#datos_covid.ENTIDAD_RES.nunique()            # Numero de valores únicos coincide con cantidad de estados\n",
    "#datos_covid.ENTIDAD_RES.str.len().unique()   # Todas las claves tienen una longitud de dos\n",
    "\n",
    "#np.sort(datos_covid.MUNICIPIO_RES.unique())  # Valores únicos con valores de todos los estados\n",
    "#datos_covid.MUNICIPIO_RES.str.len().unique() # Todas las claves tienen una longitud de tres\n",
    "#np.sort(datos_covid[datos_covid['ENTIDAD_RES'] == '30'].MUNICIPIO_RES.unique()) \n",
    "                                              # Valores unicos de claves municipales\n",
    "                                              # de residentes de Veracruz con valores\n",
    "                                              # correctos ('001'-'212' y '999')\n",
    "    \n"
   ]
  },
  {
   "cell_type": "markdown",
   "id": "edd16e99",
   "metadata": {},
   "source": [
    "## Información contenida en el sitio COVID-CONACyT"
   ]
  },
  {
   "cell_type": "markdown",
   "id": "8343e967",
   "metadata": {},
   "source": [
    "Cada registro individual se contabiliza según el lugar de residencia, no el lugar donde se toma la muestra. Esta forma de contabilizar los datos implica que los turistas internacionales que entran al sistema no son contabilizados en las estadisticas.\n",
    "\n",
    "La muestra de datos extraída de la base de datos nacional toma los casos de residentes veracruzanos y los casos de los que fueron diagnosticados en el Estado de Veracruz aunque sean de otros estados. Para replicar las gráficas a nivel estatal, se redujeron las entradas a solamente a los registros con el valor '30' en ENTIDAD_RES (Entidad de residencia). \n",
    "\n",
    "El nombre de cada una de las gráficas está definido según la división realizada en un análisis previo plasmando en el documento Contenido del sitio web COVID-CONACyT (AnalisisPaginaConacyt). En esta seccion se replican los datos en los que se basan las gráficas. \n",
    "\n"
   ]
  },
  {
   "cell_type": "code",
   "execution_count": 9,
   "id": "6fbb6ebc",
   "metadata": {},
   "outputs": [],
   "source": [
    "# Reducir la muestra solo a los habitantes del estado de Veracruz y separar los casos según clasificación final.\n",
    "\n",
    "registros_condiciones = {\n",
    "'POSITIVOS' : datos_covid[datos_covid.CLASIFICACION_FINAL.isin([1,2,3])], \n",
    "                                                # Casos confirmados (valores 1,2,3 en RESULTADO_FINAL)\n",
    "'NEGATIVOS' : datos_covid[datos_covid.CLASIFICACION_FINAL.isin([7])],\n",
    "                                                # Casos negativos (valor 7 en RESULTADO_FINAL)\n",
    "'SOSPECHOSOS' : datos_covid[datos_covid.CLASIFICACION_FINAL.isin([4,5,6])]\n",
    "                                                # Casos sospechosos (valores 4,5,6 en RESULTADO_FINAL)\n",
    "}"
   ]
  },
  {
   "cell_type": "markdown",
   "id": "e42edde0",
   "metadata": {},
   "source": [
    "### Funciones para el procesamiento de datos"
   ]
  },
  {
   "cell_type": "markdown",
   "id": "087fddcd",
   "metadata": {},
   "source": [
    "Se codificaron dos funciones y una Lambda (en la Sección 2) para procesar información:\n",
    "* ***clave_x_descripcion***: Función que regresa una lista que sustituye claves por descripciones. Toma como entrada un array o lista de claves y un diccionario que tiene como llave la clave y como valor la descripción.\n",
    "\n",
    "\n",
    "* ***por_condicion***: Función que reorganiza la información del diccionario de porcentajes según condición del paciente. Toma como entradaun diccionario de porcentajes, un diccionario de claves, la condicion a extraer y un boleano para imprimir o no información. Regresa un diccionario de porcentajes divididos por condición del paciente.\n",
    "\n",
    "\n",
    "* ***porcentaje_valores (lambda)***: Función que cuenta los valores de una columna especifica, divide los agregados entre el total de la casos. Usa como entrada una columna de dataframe y un numero entero. Regresa una serie de pandas.\n"
   ]
  },
  {
   "cell_type": "code",
   "execution_count": 10,
   "id": "fb7e5598",
   "metadata": {},
   "outputs": [],
   "source": [
    "def clave_x_descripcion(claves, diccionario):\n",
    "    '''\n",
    "    Función que regresa una lista donde las claves son sustituidas \n",
    "    descripciones. Toma como entrada:\n",
    "    - claves: Un array o lista de claves.\n",
    "    - diccionario: un diccionario que tiene como llave la clave y \n",
    "      como valor la descripción.\n",
    "    \n",
    "    Regresa lista de descripciones unicas en el orden que estan las claves\n",
    "    en la lista de claves.\n",
    "    '''\n",
    "    lista = []\n",
    "    for clave in claves:\n",
    "        lista.append(diccionario[clave])\n",
    "    return lista"
   ]
  },
  {
   "cell_type": "markdown",
   "id": "ce1949a4",
   "metadata": {},
   "source": [
    "### Información Sección 1 (S1): Acumulados y Casos activos"
   ]
  },
  {
   "cell_type": "markdown",
   "id": "a79e2820",
   "metadata": {},
   "source": [
    "La Sección esta compuesta de la suma de casos:\n",
    "* positivos\n",
    "* negativos\n",
    "* sospechosos\n",
    "* defunciones\n",
    "* recuperados\n",
    "* activos"
   ]
  },
  {
   "cell_type": "code",
   "execution_count": 11,
   "id": "a07cb18d",
   "metadata": {},
   "outputs": [],
   "source": [
    "### Lambdas Sección 1 ###\n",
    "recuperados = lambda x: x[(x['TIPO_PACIENTE'] == 1) &          # Paciente no ambulatorio\n",
    "                          (x['FECHA_DEF'].isna()) &            # que no haya muerto\n",
    "                          (x['FECHA_SINTOMAS']  +              # cuya fecha de incio de sintomas\n",
    "                          dt.timedelta(days = 14) <=           # + 14 días sea menor o igual \n",
    "                          fecha_corte)]                        # a la fecha de corte\n",
    "'''\n",
    "Lambda que regresa los registros de pacientes no ambulatorios (clave 1 en columna \n",
    "TIPO_PACIENTE), que no tienen fecha de defunción (en la columna FECHA_DEF), cuya \n",
    "fecha de incio de sintomas (FECHA_SINTOMAS) + catorce dias, sea menor o igual a la fecha \n",
    "de corte (fecha_corte).\n",
    "'''\n",
    "\n",
    "difuntos = lambda x: x[x['FECHA_DEF'].notna()]                 # Con fecha de defunción\n",
    "'''\n",
    "Lambda que regresa los registros de pacientes que no han muerto (con valor nulo\n",
    "en la columna FECHA_DEF)\n",
    "'''\n",
    "\n",
    "activos = lambda x: x[x['FECHA_RECUPERACION'] > fecha_corte ]  # Pacientes cuya fecha de recuperación\n",
    "                                                               # sea mayor a la fecha de corte\n",
    "'''\n",
    "Lambda que regresa los registros de pacientes cuya fecha de recuperacion (columna\n",
    "FECHA_RECUPERACION) sea mayor a la fecha de corte. \n",
    "De esta forma es como coinciden los numeros con la pagina CONACyT pero **se deberia\n",
    "incluir que esten vivos tambien (sin valor en la columna FECHA_DEF)** porque los\n",
    "muertos no estan activos, por lo menos para esta enfermedad.\n",
    "'''\n",
    "\n",
    "### Listas ###\n",
    "lista_condiciones = ['POSITIVOS', 'NEGATIVOS', 'SOSPECHOSOS']          # Lista de condiciones de paciente\n",
    "columnas_extraer_S1 = ['ENTIDAD_RES','MUNICIPIO_RES', 'ID_REGISTRO']   # Lista de columnas a extraer\n",
    "columnas_agrupar = ['ENTIDAD_RES', 'MUNICIPIO_RES']                    # Lista de columnas que se van a agrupar\n",
    "\n",
    "### Diccionarios ###\n",
    "registros_defunciones = {}  # Registros por condición con fecha de defunción\n",
    "registros_recuperados = {}  # Registros por condición de personas recuperadas\n",
    "registros_activos = {}      # Registros por condicion de personas con enfermedad activa\n",
    "\n",
    "\n",
    "### Organización de información ###\n",
    "for llave, valor in registros_condiciones.items():\n",
    "    registros_defunciones[llave] = difuntos(valor)\n",
    "    registros_recuperados[llave] = recuperados(valor)\n",
    "    registros_activos[llave] = activos(valor)\n",
    "    \n",
    "    \n",
    "acumulado_condiciones = {}    # Diccionario de totales acumulados por condición.\n",
    "acumulado_defunciones = {}    # Diccionario de difunciones totales acumuladas por condición.\n",
    "acumulado_recuperados = {}    # Diccionario de recuperados totales por condición.\n",
    "acumulado_activos = {}        # Diccionario de activos\n",
    "\n",
    "# Agregar acumulado de casos positivos, negativos y sospechosos a diccionario numero_casos\n",
    "# Lambda que regresa los registros de pacientes agrupados por columnas especificas y los cuenta.\n",
    "for condicion in lista_condiciones:\n",
    "    acumulado_condiciones[condicion] = registros_condiciones[condicion][columnas_extraer_S1]\\\n",
    "                                        .groupby(columnas_agrupar).count()    \n",
    "    acumulado_defunciones[condicion] = registros_defunciones[condicion][columnas_extraer_S1]\\\n",
    "                                        .groupby(columnas_agrupar).count()\n",
    "    acumulado_recuperados[condicion] = registros_recuperados[condicion][columnas_extraer_S1]\\\n",
    "                                        .groupby(columnas_agrupar).count()\n",
    "    acumulado_activos[condicion] = registros_activos[condicion][columnas_extraer_S1]\\\n",
    "                                        .groupby(columnas_agrupar).count()\n"
   ]
  },
  {
   "cell_type": "code",
   "execution_count": 12,
   "id": "0cb8c436",
   "metadata": {},
   "outputs": [],
   "source": [
    "#acumulado_condiciones['POSITIVOS'].loc['01'].sum()[0]"
   ]
  },
  {
   "cell_type": "markdown",
   "id": "29500ee3",
   "metadata": {},
   "source": [
    "### Información Seccion 2 (S2): Porcentajes por sexo, tipo de paciente y comorbilidades según tipo de caso"
   ]
  },
  {
   "cell_type": "code",
   "execution_count": 43,
   "id": "8a76a4e1",
   "metadata": {},
   "outputs": [],
   "source": [
    "# Lista de columnas a extraer\n",
    "lista_comorbilidades = ['DIABETES', 'EPOC', 'ASMA', 'INMUSUPR', 'HIPERTENSION', 'OTRA_COM', \n",
    "                        'CARDIOVASCULAR', 'OBESIDAD', 'RENAL_CRONICA', 'TABAQUISMO']\n",
    "\n",
    "columnas_extraer_s2 = ['SEXO', 'TIPO_PACIENTE'] + lista_comorbilidades\n",
    "\n",
    "cuenta_valores_s2 = {}\n",
    "\n",
    "for columna in columnas_extraer_s2:\n",
    "    cuenta_valores_s2[columna] = {}\n",
    "    \n",
    "    for condicion in lista_condiciones:\n",
    "        cuenta_valores_s2[columna][condicion] = registros_condiciones[condicion]\\\n",
    "                                                [columnas_agrupar + [columna]].\\\n",
    "                                                groupby(columnas_agrupar).\\\n",
    "                                                apply(lambda x: x.value_counts()).\\\n",
    "                                                droplevel([0,1])    \n",
    "\n"
   ]
  },
  {
   "cell_type": "code",
   "execution_count": 44,
   "id": "926e84b0",
   "metadata": {},
   "outputs": [],
   "source": [
    "#cuenta_valores['SEXO']['POSITIVOS'].loc['30'].loc[(['002','001'],1)]"
   ]
  },
  {
   "cell_type": "code",
   "execution_count": 45,
   "id": "7812323b",
   "metadata": {},
   "outputs": [],
   "source": [
    "######## COMPROBACIONES #########\n",
    "\n",
    "#registros_condiciones.keys()                                   # llaves en el diccionario registros\n",
    "#cuenta_valores.keys()                                          # llaves en el diccionario cuenta valores\n",
    "\n",
    "#set(registros_condiciones.keys()) == set(lista_condiciones)    # llaves de diccionario registros y \n",
    "                                                                # lista_condiciones son iguales \n",
    "\n",
    "#set(['SEXO', 'TIPO_PACIENTE'] + lista_comorbilidades) == \\\n",
    "#set(cuenta_valores.keys()) == \\\n",
    "#set(columnas_extraer_S2)                                        \n",
    "                                            # Lista de comorbilidades + sexo y tipo_paciente\n",
    "                                            # es igual a las llaves del diccionario cuenta_valores\n",
    "                                            # y a la lista de columnas a extraer de la seccion 2.\n",
    "\n",
    "\n",
    "# ---------- Comprobacion de datos del diccionario ------\n",
    "\n",
    "'''\n",
    "lista_entidades = sorted(list(registros_condiciones['POSITIVOS'].ENTIDAD_RES.unique()))          \n",
    "                                                                # Lista de valores unicos de la \n",
    "                                                                # columna entidad de residencia\n",
    "extraer_municipios  = lambda x, ent: x[x['ENTIDAD_RES'] == ent]['MUNICIPIO_RES'].unique()\n",
    "                                                                # lambda que regresa los valores unicos de\n",
    "                                                                # la columna municipio de residencia para \n",
    "                                                                # cada estado.\n",
    "            \n",
    "municipios_entidades = {}                                       # Diccionario de municipios por entidad\n",
    "for entidad in lista_entidades:                                 # Para cada entidad en lista entidades\n",
    "    municipios_entidades[entidad] = []                          # la llave entidad tendra una lista\n",
    "    \n",
    "    for condicion in lista_condiciones:                         # que para cada condicion en condiciones\n",
    "        municipios_entidades[entidad].extend(                   # extenderá la lista con\n",
    "            list(extraer_municipios(registros_condiciones[condicion], entidad))) \n",
    "                                                                # los valores unicos de la columna municipios\n",
    "                                                                # para cada entidad.\n",
    "    municipios_entidades[entidad] = sorted(list(set(municipios_entidades[entidad])))\n",
    "    \n",
    "len_condiciones = len(lista_condiciones)\n",
    "len_entidades = len(lista_entidades)\n",
    "\n",
    "# Quitar duplicados y ordenar de menor a mayor.\n",
    "\n",
    "for i in range(500):\n",
    "    \n",
    "    condicion_random = lista_condiciones[rnd.randint(0, len_condiciones-1)]\n",
    "                                                                    # Tipo de condicion aleatoria.\n",
    "    entidad_random = lista_entidades[rnd.randint(0, len_entidades - 1)]      \n",
    "                                                                    # Entidad aleatoria.\n",
    "    municipio_random = municipios_entidades[entidad][rnd.randint(0, len(municipios_entidades[entidad])-1)]\n",
    "                                                                    # Municipio aleatorio de la entidad aleatoria\n",
    "    columna_random = columnas_extraer_S2[rnd.randint(0, len(columnas_extraer_S2)-1)] \n",
    "                                                                    # Columna aleatoria de la Seccion 2\n",
    "    try:\n",
    "\n",
    "        a = cuenta_valores[columna_random][condicion_random].loc[entidad_random]\\\n",
    "                                                            .loc[municipio_random]\\\n",
    "                                                            .sort_index()\n",
    "        \n",
    "        b = registros_condiciones[condicion_random]\\\n",
    "                                .groupby(['ENTIDAD_RES', 'MUNICIPIO_RES'])\\\n",
    "                                .get_group((entidad_random, municipio_random))\\\n",
    "                                [columna_random].value_counts().sort_index()\n",
    "\n",
    "        \n",
    "        pasa_prueba = a.equals(b)\n",
    "        \n",
    "    \n",
    "    except:\n",
    "        lista_mun_desde_registro = list(registros_condiciones[condicion_random]\\\n",
    "        [lambda x: x['ENTIDAD_RES'] == entidad_random]['MUNICIPIO_RES'].unique())\n",
    "        \n",
    "        lista_mun_desde_calculado = list(\n",
    "            set([indice for indice,  _ in cuenta_valores[columna_random][condicion_random].\\\n",
    "                 loc[entidad_random].index]))\n",
    "        \n",
    "        if municipio_random not in lista_mun_desde_registro and \\\n",
    "        municipio_random not in lista_mun_desde_calculado:\n",
    "            print(f'En columna {condicion_random}, {entidad_random}, {columna_random}',\n",
    "                  f'no existe el municipio {municipio_random}')\n",
    "        else:\n",
    "            print('Error no especificado')   \n",
    "    \n",
    "    if not pasa_prueba:\n",
    "        print(a, b)\n",
    "#    else:\n",
    "#        print('Valores identicos para ',\n",
    "#              f'{condicion_random}, {entidad_random}, {columna_random}, {municipio_random}')\n",
    "'''\n",
    "\n",
    "mostrar_comentario = False\n",
    "        "
   ]
  },
  {
   "cell_type": "markdown",
   "id": "969d6487",
   "metadata": {},
   "source": [
    "# Graficas"
   ]
  },
  {
   "cell_type": "code",
   "execution_count": 46,
   "id": "c495d83e",
   "metadata": {},
   "outputs": [],
   "source": [
    "def cuadro_informacion(fila, columna, titulo, data, \n",
    "                       entidades, municipios, color,  \n",
    "                       acumulado = False):\n",
    "    '''\n",
    "    Función que formatea y despliega cuadros con información. Modifica valores \n",
    "    globales. Si la información es acumulada agrega una leyenda al final indicando \n",
    "    el tipo de información. \n",
    "    Toma como entrada: \n",
    "    - fila: El numero de fila para posicionar el elemento en el gridspec.\n",
    "    - columna: El numero de columna para posicionar el elemento en el gridspec. \n",
    "    - titulo: Nombre del dato que esta desplegando.\n",
    "    - data: data frame con el dato que se quiere desplegar.\n",
    "    - entidades: Entidades que se van a contabilizar (en formato de lista)\n",
    "    - municipios: Municipios que se van a sumar (en formato de lista).\n",
    "    - color: El color que se le va a asignar al titulo.\n",
    "    - acumulado: Valor boleano que define si el dato es acumulado o no.\n",
    "    \n",
    "    '''\n",
    "    \n",
    "    \n",
    "    if entidades is None:\n",
    "        valor = data.sum()[0]\n",
    "        \n",
    "    elif entidades is not None and municipios is None:\n",
    "        valor = data.loc[entidades].sum()[0]\n",
    "        \n",
    "    elif entidades is not None and municipios is not None:\n",
    "        extraer = []\n",
    "\n",
    "        for entidad in entidades:\n",
    "            for municipio in municipios:\n",
    "                extraer.append((entidad, municipio))\n",
    "        extraer = set(extraer).intersection(data.index)\n",
    "        if len(extraer) > 0:\n",
    "            valor = data.loc[extraer].sum()[0]\n",
    "        else: valor = 0\n",
    "        \n",
    "    ax = fig.add_subplot(gs[fila, columna])                 # Agregar figura\n",
    "    # Formatear texto\n",
    "    ax.text(.07, .72, titulo.upper(), color = color)\n",
    "    ax.text(.07, .37, f\"{valor:,}\", fontsize = 'xx-large')\n",
    "    # formatear grafica\n",
    "    if acumulado:\n",
    "        ax.text(.07, .12, \"Acumulados\", color = 'gray', fontsize = 'small')\n",
    "    ax.set_xticks([])\n",
    "    ax.set_xticklabels([])\n",
    "    ax.set_yticks([])\n",
    "    ax.set_yticklabels([])\n",
    "    ax.spines[['top', 'bottom', 'left', 'right']].set_visible(False)\n",
    "    # Redondear bordes de axes\n",
    "    p_bbox = FancyBboxPatch((0,0), \n",
    "                            1, 1, \n",
    "                            facecolor = 'white',\n",
    "                            edgecolor = 'gray',\n",
    "                            linewidth = 1,\n",
    "                            clip_on = True,\n",
    "                            boxstyle = \"round,pad= -0.005, rounding_size = .05\", )\n",
    "    \n",
    "    ax.add_patch(p_bbox)"
   ]
  },
  {
   "cell_type": "code",
   "execution_count": 49,
   "id": "b1e85caf",
   "metadata": {},
   "outputs": [],
   "source": [
    "def barra_horizontal(fila, columna, titulo, data, \n",
    "                     entidades, municipios, clave, \n",
    "                     color, diccionario):\n",
    "    '''\n",
    "    Función que formatea y desplega gráficas horizontales de una sola barra.\n",
    "    Toma como entrada: \n",
    "    - fila: El numero de fila para posicionar el elemento en el gridspec.\n",
    "    - columna: El numero de columna para posicionar el elemento en el gridspec. \n",
    "    - titulo: Nombre del dato que esta desplegando.\n",
    "    - data: data frame con el dato que se quiere desplegar.\n",
    "    - entidades: Entidades que se van a contabilizar (en formato de lista)\n",
    "    - municipios: Municipios que se van a sumar (en formato de lista).\n",
    "    - clave: Clave que se va a extraer.\n",
    "    - diccionario: Diccionario con la descripción de las claves.\n",
    "    - acumulado: Valor boleano que define si el dato es acumulado o no.\n",
    "    \n",
    "    '''\n",
    "    ax = fig.add_subplot(gs[fila, columna]  # Agregar figura\n",
    "    \n",
    "    if entidades is None:\n",
    "        y_valor = data.xs(clave, level = 2).sum()\n",
    "        total = data.sum()\n",
    "        \n",
    "    elif entidades is not None and municipios is None:\n",
    "        corte = data.loc[entidades]\n",
    "        total = corte.sum()\n",
    "        y_valor = corte.xs(clave, level = 2, drop_level= False).sum()\n",
    "        \n",
    "    elif entidades is not None and municipios is not None:\n",
    "        extraer = []\n",
    "        for entidad in entidades:\n",
    "            for municipio in municipios:\n",
    "                extraer.append((entidad, municipio))\n",
    "\n",
    "        indices_data = set(data.droplevel(level = 2).index)\n",
    "        extraer = list(set(extraer).intersection(indices_data))\n",
    "        \n",
    "        \n",
    "        if len(extraer) > 0:\n",
    "            idx = pd.IndexSlice\n",
    "            corte = data.loc[idx[entidades,municipios, :]]\n",
    "            \n",
    "            total = corte.sum()\n",
    "            y_valor = corte.xs(clave, level = 2, drop_level = False).sum()\n",
    "            \n",
    "        else:\n",
    "            total = corte.sum()\n",
    "            y_valor = 0\n",
    "            \n",
    "            \n",
    "    # formatear figura\n",
    "    ax.set_title(titulo.capitalize())  # agregar titulo\n",
    "    ax.spines[['top', 'left', 'right']].set_visible(False)\n",
    "    ax.set_yticks([])\n",
    "    ax.set_yticklabels([])\n",
    "    \n",
    "   \n",
    "    \n",
    "    \n",
    "    ax.set_xlim(0, total)\n",
    "    ax.set_xticks(np.linspace(0, total, num = 5, endpoint = True, dtype = np.int32))\n",
    "    ax.set_xticklabels([f'{etiqueta}%'for etiqueta in [0, 25, 50, 75, 100]], \n",
    "                   size = 'small')\n",
    "    # formatear barra\n",
    "    barra = ax.barh([0], y_valor, color = color, align = 'edge')   # agregar barra\n",
    "    ax.barh([0], total - y_valor, color = 'lightgray', left = y_valor, height = .1, align = 'edge')\n",
    "    \n",
    "    porcentaje_valor = (y_valor * 100) / total \n",
    "    ax.bar_label(barra, labels=[f'{porcentaje_valor:.2f}%'], label_type = 'center', size = 'xx-large', color = 'white')\n",
    "    \n",
    "    "
   ]
  },
  {
   "cell_type": "code",
   "execution_count": 39,
   "id": "5927889c",
   "metadata": {},
   "outputs": [
    {
     "data": {
      "image/png": "[encoded data removed]",
      "text/plain": [
       "<Figure size 1008x216 with 6 Axes>"
      ]
     },
     "metadata": {},
     "output_type": "display_data"
    }
   ],
   "source": [
    "fig = plt.figure(figsize = (14, 3))\n",
    "gs = gridspec.GridSpec(3, 6, figure = fig)\n",
    "\n",
    "colores_condiciones = ['red', 'blue', 'goldenrod']\n",
    "\n",
    "fila, columna = 0, 0\n",
    "for item, color in zip(acumulado_condiciones.items(), colores_condiciones):\n",
    "    llave, valor = item[0], item[1]\n",
    "    ax = cuadro_informacion(fila, columna, llave, \n",
    "                            valor, \n",
    "                            entidades, municipios, color, \n",
    "                            acumulado = True)\n",
    "    columna += 1\n",
    "\n",
    "fila, columna = 0, 3\n",
    "ax = cuadro_informacion(fila, columna, 'DEFUNCIONES', \n",
    "                   acumulado_defunciones['POSITIVOS'], \n",
    "                   entidades, municipios, 'black', \n",
    "                   acumulado = True)\n",
    "\n",
    "fila, columna = 0, 4\n",
    "ax = cuadro_informacion(fila, columna, 'RECUPERADOS', \n",
    "                   acumulado_recuperados['POSITIVOS'], \n",
    "                   entidades, municipios, 'orange', \n",
    "                   acumulado = True)\n",
    "\n",
    "fila, columna = 0, 5\n",
    "ax = cuadro_informacion(fila, columna, 'ACTIVOS', \n",
    "                   acumulado_activos['POSITIVOS'], \n",
    "                   entidades, municipios, 'green', \n",
    "                   acumulado = False)\n",
    "\n",
    "plt.tight_layout()\n",
    "\n"
   ]
  },
  {
   "cell_type": "code",
   "execution_count": 47,
   "id": "d8422eec",
   "metadata": {},
   "outputs": [
    {
     "data": {
      "text/plain": [
       "ENTIDAD_RES  MUNICIPIO_RES  SEXO\n",
       "30           002            2       10\n",
       "                            1        7\n",
       "dtype: int64"
      ]
     },
     "execution_count": 47,
     "metadata": {},
     "output_type": "execute_result"
    }
   ],
   "source": [
    "idx = pd.IndexSlice\n",
    "\n",
    "cuenta_valores_s2['SEXO']['POSITIVOS'].loc[idx[['30'],['002', ' 001'], :]]\n"
   ]
  },
  {
   "cell_type": "code",
   "execution_count": 53,
   "id": "747d5e77",
   "metadata": {},
   "outputs": [
    {
     "data": {
      "image/png": "[encoded data removed]",
      "text/plain": [
       "<Figure size 432x288 with 2 Axes>"
      ]
     },
     "metadata": {
      "needs_background": "light"
     },
     "output_type": "display_data"
    }
   ],
   "source": [
    "condicion = 'POSITIVOS'\n",
    "entidades = ['30']\n",
    "municipios = ['026', '065', '038', '087', ' 093', '136', '182']\n",
    "\n",
    "fig = plt.figure()\n",
    "gs = gridspec.GridSpec(1, 2, figure = fig)\n",
    "\n",
    "columna = 0\n",
    "fila = 0\n",
    "\n",
    "for i in range(1,3):\n",
    "    ax = def barra_horizontal(fila, columna, titulo, data, \n",
    "                     entidades, municipios, clave, \n",
    "                     color, diccionario):\n",
    "    columna +=1\n",
    "    "
   ]
  },
  {
   "cell_type": "code",
   "execution_count": 35,
   "id": "f7f78dc1",
   "metadata": {},
   "outputs": [],
   "source": [
    "def insertar_axes(titulo, subtitulos, desplegar, pad, datos, funcion):\n",
    "    \n",
    "    ax.set_title(titulo)\n",
    "    ax.set_xticks([]), ax.set_yticks([])\n",
    "    ax.set_xticklabels([]), ax.set_yticklabels([])\n",
    "    ax.spines[['top', 'bottom', 'right', 'left']].set_visible(False)\n",
    "\n",
    "    num_barras = len(subtitulos)\n",
    "    insertar_en = np.linspace(0, 1 - pad, num_barras + 1)[:-1]\n",
    "    indice = 0\n",
    "    \n",
    "    for subtitulo in subtitulos:\n",
    "        if indice == 0:\n",
    "            ax_sub = ax.inset_axes([insertar_en[indice], 0, (1 - pad)/num_barras, .8])\n",
    "        else:\n",
    "            ax_sub = ax.inset_axes([insertar_en[indice] + pad/(num_barras-1), 0, (1- pad)/num_barras , .8])\n",
    "\n",
    "        barra_horizontal(subtitulo, datos[subtitulo][desplegar], ax_sub)\n",
    "        indice += 1"
   ]
  },
  {
   "cell_type": "markdown",
   "id": "8e00a940",
   "metadata": {},
   "source": [
    "# Información Sección 3 (S3)"
   ]
  },
  {
   "cell_type": "code",
   "execution_count": null,
   "id": "c25a426c",
   "metadata": {},
   "outputs": [],
   "source": [
    "### Datos de la primera gráfica seccion tres - Casos por municipio\n",
    "\n",
    "casos_positivos_municipio = casos_positivos.groupby(['MUNICIPIO_RES']).size()\n",
    "casos_negativos_municipio = casos_negativos.groupby(['MUNICIPIO_RES']).size()\n",
    "casos_sospechosos_municipio = casos_sospechosos.groupby(['MUNICIPIO_RES']).size()"
   ]
  },
  {
   "cell_type": "code",
   "execution_count": null,
   "id": "541b25da",
   "metadata": {},
   "outputs": [],
   "source": [
    "### Datos de la segunda gráfica sección tres - Casos por rango y sexo ###\n",
    "\n",
    "casos_positivos_rango_y_sexo = casos_positivos.groupby(['RANGOS_EDAD', 'SEXO']).size()\n",
    "casos_negativos_rango_y_sexo = casos_negativos.groupby(['RANGOS_EDAD', 'SEXO']).size()\n",
    "casos_sospechosos_rango_y_sexo = casos_sospechosos.groupby(['RANGOS_EDAD', 'SEXO']).size()\n"
   ]
  },
  {
   "cell_type": "code",
   "execution_count": null,
   "id": "8a8808ba",
   "metadata": {},
   "outputs": [],
   "source": [
    "### Datos de la tercera gráfica sección tres - Casos por rango y tipo de paciente ###\n",
    "\n",
    "casos_positivos_rango_y_tipo = casos_positivos.groupby(['RANGOS_EDAD', 'TIPO_PACIENTE']).size()\n",
    "casos_negativos_rango_y_tipo = casos_negativos.groupby(['RANGOS_EDAD', 'TIPO_PACIENTE']).size()\n",
    "casos_sospechosos_rango_y_tipo = casos_sospechosos.groupby(['RANGOS_EDAD', 'TIPO_PACIENTE']).size()\n"
   ]
  },
  {
   "cell_type": "code",
   "execution_count": null,
   "id": "131f6408",
   "metadata": {},
   "outputs": [],
   "source": [
    "### Datos de la cuarta gráfica sección tres - Casos por fecha y sexo ###\n",
    "\n",
    "casos_positivos_fecha_y_sexo = casos_positivos.groupby(['FECHA_INGRESO', 'SEXO']).size()\n",
    "casos_negativos_fecha_y_sexo = casos_negativos.groupby(['FECHA_INGRESO', 'SEXO']).size()\n",
    "casos_sospechosos_fecha_y_sexo = casos_sospechosos.groupby(['FECHA_INGRESO', 'SEXO']).size()"
   ]
  },
  {
   "cell_type": "markdown",
   "id": "3adce6e4",
   "metadata": {},
   "source": [
    "## Continuaciones"
   ]
  },
  {
   "cell_type": "markdown",
   "id": "46a0cf78",
   "metadata": {},
   "source": [
    "En esta sección se realizan mas graficas que las disponibles en la pagina.\n"
   ]
  },
  {
   "cell_type": "markdown",
   "id": "cabf2299",
   "metadata": {},
   "source": [
    "### Gráficas Sección 2 (S2)"
   ]
  },
  {
   "cell_type": "code",
   "execution_count": null,
   "id": "c7d03452",
   "metadata": {},
   "outputs": [],
   "source": [
    "#crime_year = pd.DataFrame(df.Year.value_counts().reset_index().values, columns=[\"Year\", \"AggregateCrime\"])\n",
    "ent_res = datos_covid['ENTIDAD_UM'].groupby(datos_covid['ENTIDAD_UM']).count()\n"
   ]
  },
  {
   "cell_type": "markdown",
   "id": "d2711887",
   "metadata": {},
   "source": [
    "\n",
    "\n",
    "* Llama la atención que a pesar de haber asintomáticos todos los campos de fecha de comienzo de síntomas tienen valores válidos. "
   ]
  }
 ],
 "metadata": {
  "kernelspec": {
   "display_name": "Python 3 (ipykernel)",
   "language": "python",
   "name": "python3"
  },
  "language_info": {
   "codemirror_mode": {
    "name": "ipython",
    "version": 3
   },
   "file_extension": ".py",
   "mimetype": "text/x-python",
   "name": "python",
   "nbconvert_exporter": "python",
   "pygments_lexer": "ipython3",
   "version": "3.9.7"
  }
 },
 "nbformat": 4,
 "nbformat_minor": 5
}
